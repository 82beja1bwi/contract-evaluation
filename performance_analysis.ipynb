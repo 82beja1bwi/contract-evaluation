{
 "cells": [
  {
   "cell_type": "markdown",
   "metadata": {},
   "source": [
    "# Performance of Contract Calculation\n",
    "\n",
    "Problem: contract calculation is brute force, not a heuristic etc. \n",
    "\n",
    "Objective: \n",
    "\n",
    "- Quantify durations of contract calculation\n",
    "- Validate, brute force, not the min heap operations, drives performance\n",
    "\n",
    "Data created in the performance js scripts. "
   ]
  },
  {
   "cell_type": "code",
   "execution_count": 149,
   "metadata": {},
   "outputs": [],
   "source": [
    "import pandas as pd"
   ]
  },
  {
   "cell_type": "code",
   "execution_count": 160,
   "metadata": {},
   "outputs": [],
   "source": [
    "#imports and simple cleaning\n",
    "two_c_calc_df = pd.read_csv('./perf_2C_calc.csv')\n",
    "two_c_calc_df.drop(two_c_calc_df.columns[-1], axis=1, inplace=True)\n",
    "two_c_min_heap_df = pd.read_csv('./perf_2C_min_heap.csv')\n",
    "two_c_min_heap_df.drop(two_c_min_heap_df.columns[-1], axis=1, inplace=True)\n",
    "three_c_calc_df = pd.read_csv('./perf_3C_calc.csv')\n",
    "three_c_calc_df.drop(three_c_calc_df.columns[-1], axis=1, inplace=True)\n",
    "three_c_min_heap_df = pd.read_csv('./perf_3C_min_heap.csv')\n",
    "three_c_min_heap_df.drop(three_c_min_heap_df.columns[-1], axis=1, inplace=True)"
   ]
  },
  {
   "cell_type": "markdown",
   "metadata": {},
   "source": [
    "The add operation is called multiple times per contract optimization. Based on rows in the data frames this amount can be calculated:"
   ]
  },
  {
   "cell_type": "code",
   "execution_count": 167,
   "metadata": {},
   "outputs": [
    {
     "name": "stdout",
     "output_type": "stream",
     "text": [
      "Add is called 245 times in 3C Analysis\n",
      "Add is called 900 times in 3C Analysis\n"
     ]
    }
   ],
   "source": [
    "no_of_add_oeprations_per_calc_2c = len(two_c_min_heap_df) /len(two_c_calc_df[two_c_calc_df['Func']=='calculation'])\n",
    "no_of_add_oeprations_per_calc_3c = len(three_c_min_heap_df) /len(three_c_calc_df[three_c_calc_df['Func']=='calculation'])\n",
    "\n",
    "print(\"Add is called \"+ str(int(no_of_add_oeprations_per_calc_2c))+\" times in 3C Analysis\")\n",
    "print(\"Add is called \"+ str(int(no_of_add_oeprations_per_calc_3c))+\" times in 3C Analysis\")\n"
   ]
  },
  {
   "cell_type": "markdown",
   "metadata": {},
   "source": [
    "These values are multiplied with the descriptive describe() statisitcs of the add operation:"
   ]
  },
  {
   "cell_type": "code",
   "execution_count": 164,
   "metadata": {},
   "outputs": [
    {
     "data": {
      "text/html": [
       "<div>\n",
       "<style scoped>\n",
       "    .dataframe tbody tr th:only-of-type {\n",
       "        vertical-align: middle;\n",
       "    }\n",
       "\n",
       "    .dataframe tbody tr th {\n",
       "        vertical-align: top;\n",
       "    }\n",
       "\n",
       "    .dataframe thead th {\n",
       "        text-align: right;\n",
       "    }\n",
       "</style>\n",
       "<table border=\"1\" class=\"dataframe\">\n",
       "  <thead>\n",
       "    <tr style=\"text-align: right;\">\n",
       "      <th></th>\n",
       "      <th>2C_Min_Heap</th>\n",
       "      <th>3C_Min_Heap</th>\n",
       "    </tr>\n",
       "  </thead>\n",
       "  <tbody>\n",
       "    <tr>\n",
       "      <th>mean</th>\n",
       "      <td>0.064571</td>\n",
       "      <td>0.121394</td>\n",
       "    </tr>\n",
       "    <tr>\n",
       "      <th>std</th>\n",
       "      <td>0.132102</td>\n",
       "      <td>0.132609</td>\n",
       "    </tr>\n",
       "    <tr>\n",
       "      <th>min</th>\n",
       "      <td>0.020363</td>\n",
       "      <td>0.036880</td>\n",
       "    </tr>\n",
       "    <tr>\n",
       "      <th>25%</th>\n",
       "      <td>0.040725</td>\n",
       "      <td>0.075611</td>\n",
       "    </tr>\n",
       "    <tr>\n",
       "      <th>50%</th>\n",
       "      <td>0.051027</td>\n",
       "      <td>0.112492</td>\n",
       "    </tr>\n",
       "    <tr>\n",
       "      <th>75%</th>\n",
       "      <td>0.102061</td>\n",
       "      <td>0.150284</td>\n",
       "    </tr>\n",
       "    <tr>\n",
       "      <th>max</th>\n",
       "      <td>7.390665</td>\n",
       "      <td>11.624426</td>\n",
       "    </tr>\n",
       "  </tbody>\n",
       "</table>\n",
       "</div>"
      ],
      "text/plain": [
       "      2C_Min_Heap  3C_Min_Heap\n",
       "mean     0.064571     0.121394\n",
       "std      0.132102     0.132609\n",
       "min      0.020363     0.036880\n",
       "25%      0.040725     0.075611\n",
       "50%      0.051027     0.112492\n",
       "75%      0.102061     0.150284\n",
       "max      7.390665    11.624426"
      ]
     },
     "execution_count": 164,
     "metadata": {},
     "output_type": "execute_result"
    }
   ],
   "source": [
    "min_heap_concat = pd.concat([two_c_min_heap_df.describe()*no_of_add_oeprations_per_calc_2c, three_c_min_heap_df.describe()*no_of_add_oeprations_per_calc_3c],axis=1)\n",
    "min_heap_concat.columns = ['2C_Min_Heap','3C_Min_Heap']\n",
    "min_heap_concat = min_heap_concat.drop('count')\n",
    "min_heap_concat"
   ]
  },
  {
   "cell_type": "markdown",
   "metadata": {},
   "source": [
    "Concatenate the frames to visualize durations of optimization and add operation"
   ]
  },
  {
   "cell_type": "code",
   "execution_count": 159,
   "metadata": {},
   "outputs": [
    {
     "data": {
      "text/html": [
       "<div>\n",
       "<style scoped>\n",
       "    .dataframe tbody tr th:only-of-type {\n",
       "        vertical-align: middle;\n",
       "    }\n",
       "\n",
       "    .dataframe tbody tr th {\n",
       "        vertical-align: top;\n",
       "    }\n",
       "\n",
       "    .dataframe thead th {\n",
       "        text-align: right;\n",
       "    }\n",
       "</style>\n",
       "<table border=\"1\" class=\"dataframe\">\n",
       "  <thead>\n",
       "    <tr style=\"text-align: right;\">\n",
       "      <th></th>\n",
       "      <th>2c_calculation</th>\n",
       "      <th>3c_calculation</th>\n",
       "      <th>2C_Min_Heap</th>\n",
       "      <th>3C_Min_Heap</th>\n",
       "    </tr>\n",
       "  </thead>\n",
       "  <tbody>\n",
       "    <tr>\n",
       "      <th>min</th>\n",
       "      <td>0.450125</td>\n",
       "      <td>2.574792</td>\n",
       "      <td>0.020363</td>\n",
       "      <td>0.036880</td>\n",
       "    </tr>\n",
       "    <tr>\n",
       "      <th>25%</th>\n",
       "      <td>1.012063</td>\n",
       "      <td>4.615615</td>\n",
       "      <td>0.040725</td>\n",
       "      <td>0.075611</td>\n",
       "    </tr>\n",
       "    <tr>\n",
       "      <th>50%</th>\n",
       "      <td>11.280791</td>\n",
       "      <td>29.133458</td>\n",
       "      <td>0.051027</td>\n",
       "      <td>0.112492</td>\n",
       "    </tr>\n",
       "    <tr>\n",
       "      <th>75%</th>\n",
       "      <td>14.750250</td>\n",
       "      <td>45.649677</td>\n",
       "      <td>0.102061</td>\n",
       "      <td>0.150284</td>\n",
       "    </tr>\n",
       "    <tr>\n",
       "      <th>max</th>\n",
       "      <td>22.073208</td>\n",
       "      <td>123.524042</td>\n",
       "      <td>7.390665</td>\n",
       "      <td>11.624426</td>\n",
       "    </tr>\n",
       "  </tbody>\n",
       "</table>\n",
       "</div>"
      ],
      "text/plain": [
       "     2c_calculation  3c_calculation  2C_Min_Heap  3C_Min_Heap\n",
       "min        0.450125        2.574792     0.020363     0.036880\n",
       "25%        1.012063        4.615615     0.040725     0.075611\n",
       "50%       11.280791       29.133458     0.051027     0.112492\n",
       "75%       14.750250       45.649677     0.102061     0.150284\n",
       "max       22.073208      123.524042     7.390665    11.624426"
      ]
     },
     "execution_count": 159,
     "metadata": {},
     "output_type": "execute_result"
    }
   ],
   "source": [
    "c1 = two_c_calc_df[two_c_calc_df['Func']=='u_scoring_func'].describe()\n",
    "c2 = two_c_calc_df[two_c_calc_df['Func']=='s_scoring_func'].describe()\n",
    "c3 = two_c_calc_df[two_c_calc_df['Func']=='calculation'].describe()\n",
    "\n",
    "\n",
    "c4 = three_c_calc_df[three_c_calc_df['Func']=='u_scoring_func'].describe()\n",
    "c5 = three_c_calc_df[three_c_calc_df['Func']=='s_scoring_func'].describe()\n",
    "c6 = three_c_calc_df[three_c_calc_df['Func']=='calculation'].describe()\n",
    "\n",
    "concat = pd.concat([ c3,c6],axis=1)\n",
    "concat.columns = [ '2c_calculation', '3c_calculation']\n",
    "\n",
    "concat = pd.concat([concat, min_heap_concat],axis=1)\n",
    "concat = concat.drop(['count','mean', 'std'])\n",
    "concat"
   ]
  },
  {
   "cell_type": "markdown",
   "metadata": {},
   "source": [
    "Observations\n",
    "- 3C takes more time than 2C, median is nearly five times higher\n",
    "- min heap: low quartile values, maxima are however high. Relevant differences between 2c/3c only in maxima. \n",
    "\n",
    "Consequence\n",
    "- of contract calculation, solely the BRUTE-FORCE Combination + Recursion is time consuming. Other parts such as calculation of prefernce functions or the min heap operations can be ignored. \n",
    "- It might be worth investigating alternatives\n"
   ]
  }
 ],
 "metadata": {
  "kernelspec": {
   "display_name": "base",
   "language": "python",
   "name": "python3"
  },
  "language_info": {
   "codemirror_mode": {
    "name": "ipython",
    "version": 3
   },
   "file_extension": ".py",
   "mimetype": "text/x-python",
   "name": "python",
   "nbconvert_exporter": "python",
   "pygments_lexer": "ipython3",
   "version": "3.9.13"
  }
 },
 "nbformat": 4,
 "nbformat_minor": 2
}
